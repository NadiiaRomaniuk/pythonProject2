{
  "nbformat": 4,
  "nbformat_minor": 0,
  "metadata": {
    "colab": {
      "provenance": [],
      "collapsed_sections": [
        "dwSyU2AjXwc-"
      ]
    },
    "kernelspec": {
      "name": "python3",
      "display_name": "Python 3"
    },
    "language_info": {
      "name": "python"
    }
  },
  "cells": [
    {
      "cell_type": "markdown",
      "source": [
        "# I. NumPy."
      ],
      "metadata": {
        "id": "UfI7FZudfGwv"
      }
    },
    {
      "cell_type": "markdown",
      "source": [
        "**При реалізації завдань потрібно використовувати методи з бібліотеки numpy.**\n",
        "\n",
        "**Рішення з циклами будуть оцінені в 0 балів.**"
      ],
      "metadata": {
        "id": "fQcvdlwdimQb"
      }
    },
    {
      "cell_type": "markdown",
      "source": [
        "1. (2б) Імпортувати numpy загальноприйнятим способом."
      ],
      "metadata": {
        "id": "XmA3PWg8fJxn"
      }
    },
    {
      "cell_type": "code",
      "execution_count": 1,
      "metadata": {
        "id": "JUli5tR8eTXG"
      },
      "outputs": [],
      "source": [
        "import numpy as np\n"
      ]
    },
    {
      "cell_type": "markdown",
      "source": [
        "2. (3б) Визначити список з оцінками студента(ки) за семестр. Використовуючи його, створити одновимірний масив numpy."
      ],
      "metadata": {
        "id": "fppWPwoFjTrl"
      }
    },
    {
      "cell_type": "code",
      "source": [
        "grades = [81, 85, 91, 74, 95]\n",
        "grades_arr = np.array(grades)\n",
        "print(grades_arr)"
      ],
      "metadata": {
        "id": "cuvs9lNAjVoB",
        "colab": {
          "base_uri": "https://localhost:8080/"
        },
        "outputId": "6ecc030e-1219-4075-94bb-81fe9e49dff4"
      },
      "execution_count": 9,
      "outputs": [
        {
          "output_type": "stream",
          "name": "stdout",
          "text": [
            "[81 85 91 74 95]\n"
          ]
        }
      ]
    },
    {
      "cell_type": "markdown",
      "source": [
        "3. (4б) Визначити список зі списками, де кожен рядок списку формально означає магазин, а кожна колонка - певний продукт (батон, яйця першої категорії, молоко та ковбаса), а елементами на пересічі є ціни на ці продукти відповідно. Використовуючи цей список, створити матрицю (двовимірний масив) numpy."
      ],
      "metadata": {
        "id": "OGeLtAwcjcMB"
      }
    },
    {
      "cell_type": "code",
      "source": [
        "prices = [\n",
        "    [22.5, 21.0, 21.8, 30.2],\n",
        "    [22.7, 19.9, 23.0, 30.5],\n",
        "    [2.6, 2.1, 1.9, 3.0]\n",
        "]\n",
        "prices_arr = np.array(prices)\n",
        "print(prices_arr)"
      ],
      "metadata": {
        "id": "zJ9kEAv5jcVo",
        "colab": {
          "base_uri": "https://localhost:8080/"
        },
        "outputId": "1a0c46e0-a43c-402c-e460-5d995ad6c795"
      },
      "execution_count": 8,
      "outputs": [
        {
          "output_type": "stream",
          "name": "stdout",
          "text": [
            "[[22.5 21.  21.8 30.2]\n",
            " [22.7 19.9 23.  30.5]\n",
            " [ 2.6  2.1  1.9  3. ]]\n"
          ]
        }
      ]
    },
    {
      "cell_type": "markdown",
      "source": [
        "4. (3б) Отримайте тип даних значень з масивів завдань 2 та 3. Виведіть їх на екран."
      ],
      "metadata": {
        "id": "wK7wrEw2jcix"
      }
    },
    {
      "cell_type": "code",
      "source": [
        "grades_arr_dtype = grades_arr.dtype\n",
        "prices_arr_dtype = prices_arr.dtype\n",
        "print(\"dtype of grades arr:\", grades_arr_dtype)\n",
        "print(\"dtype of prices arr:\", prices_arr_dtype)"
      ],
      "metadata": {
        "id": "uDBL1x6vjcq9",
        "colab": {
          "base_uri": "https://localhost:8080/"
        },
        "outputId": "acc2ea82-684f-420c-c52b-d50d37706fac"
      },
      "execution_count": 12,
      "outputs": [
        {
          "output_type": "stream",
          "name": "stdout",
          "text": [
            "dtype of grades arr: int64\n",
            "dtype of prices arr: float64\n"
          ]
        }
      ]
    },
    {
      "cell_type": "markdown",
      "source": [
        "5. (3б) Отримайте форми (кортеж з кількістю рядків та колонок) масивів завдань 2 та 3. Виведіть їх на екран."
      ],
      "metadata": {
        "id": "nNhAgsC3jcyp"
      }
    },
    {
      "cell_type": "code",
      "source": [
        "grades_arr_shape = grades_arr.shape\n",
        "prices_arr_shape = prices_arr.shape\n",
        "print(\"Shape of grades arr:\", grades_arr_shape)\n",
        "print(\"Shape of prices arr:\", prices_arr_shape)"
      ],
      "metadata": {
        "id": "Fi5oXTI8jc4-",
        "colab": {
          "base_uri": "https://localhost:8080/"
        },
        "outputId": "88cce6ac-0d3b-4019-fdc1-cc84a2eb0d31"
      },
      "execution_count": 11,
      "outputs": [
        {
          "output_type": "stream",
          "name": "stdout",
          "text": [
            "Shape of grades arr: (5,)\n",
            "Shape of prices arr: (3, 4)\n"
          ]
        }
      ]
    },
    {
      "cell_type": "markdown",
      "source": [
        "6. (5б) Поясніть, чому для масиву із завдання 2 ми отримали саме такий результат. На основі того ж самого масиву з цілими числами-оцінками створіть вектор-стовбець (не вектор-рядок!)."
      ],
      "metadata": {
        "id": "xYWQt0nwjc_i"
      }
    },
    {
      "cell_type": "markdown",
      "source": [
        "Список student_grades був одновимірним. При створенні масиву numpy з одновимірного списку отримується одновимірний масив"
      ],
      "metadata": {
        "id": "9IKiIbDBlF8S"
      }
    },
    {
      "cell_type": "code",
      "source": [
        "col_vector = grades_arr.reshape(-1, 1)\n",
        "print(col_vector)"
      ],
      "metadata": {
        "id": "BHzbXm1bjdFa",
        "colab": {
          "base_uri": "https://localhost:8080/"
        },
        "outputId": "4760ac72-cc16-4182-8762-361bf6b2277c"
      },
      "execution_count": 13,
      "outputs": [
        {
          "output_type": "stream",
          "name": "stdout",
          "text": [
            "[[81]\n",
            " [85]\n",
            " [91]\n",
            " [74]\n",
            " [95]]\n"
          ]
        }
      ]
    },
    {
      "cell_type": "markdown",
      "source": [
        "7. (6б) Тезисно поясніть різницю між Python списком та NumPy масивом."
      ],
      "metadata": {
        "id": "ilXJhOdujdLQ"
      }
    },
    {
      "cell_type": "markdown",
      "source": [
        "На відміну від масивів python, масиви numpy 1. можуть містити елементи лише одного типу даних 2. мають фіксований розмір при створенні, що робить їх ефективними та швидкими при операціях 3.підтримують математичні операції з масивами (векторизовані операції, функції лінійної алгебри)"
      ],
      "metadata": {
        "id": "wM6QUiR4lhP5"
      }
    },
    {
      "cell_type": "markdown",
      "source": [
        "8. (7б) Створіть одновимірний масив за допомогою спеціальної функції numpy, який би відображав динаміку стабільно зростаючого (з рівними проміжками) прибутку з продажів  за тиждень, де у перший день не було продажів, а в останній день тижня вдалося заробити 1000 грн 50 коп."
      ],
      "metadata": {
        "id": "bpY-N8QZjdW-"
      }
    },
    {
      "cell_type": "code",
      "source": [
        "sales = np.linspace(0, 1000.50, num=7)\n",
        "print(sales)"
      ],
      "metadata": {
        "id": "r3LcjnUKjdeu",
        "colab": {
          "base_uri": "https://localhost:8080/"
        },
        "outputId": "2add82a8-4019-4b8f-edcc-39c56ed64539"
      },
      "execution_count": 14,
      "outputs": [
        {
          "output_type": "stream",
          "name": "stdout",
          "text": [
            "[   0.    166.75  333.5   500.25  667.    833.75 1000.5 ]\n"
          ]
        }
      ]
    },
    {
      "cell_type": "markdown",
      "source": [
        "9. (8б) Створіть два масиви. Використовуючи їх, продемонструйте відмінність вертикального та горизонтального обʼєднання масивів."
      ],
      "metadata": {
        "id": "zQM0SY9jjebO"
      }
    },
    {
      "cell_type": "code",
      "source": [
        "arr1 = np.array([1, 2, 3])\n",
        "arr2 = np.array([4, 5, 6])\n",
        "vert = np.vstack((arr1, arr2))\n",
        "horiz = np.hstack((arr1, arr2))\n",
        "print(\"Vertical:\")\n",
        "print(vert)\n",
        "print(\"\\nHorizontal:\")\n",
        "print(horiz)"
      ],
      "metadata": {
        "id": "8uoi0_lxjeh-",
        "colab": {
          "base_uri": "https://localhost:8080/"
        },
        "outputId": "e25225e2-3e99-4593-db0d-85a729cd0709"
      },
      "execution_count": 16,
      "outputs": [
        {
          "output_type": "stream",
          "name": "stdout",
          "text": [
            "Vertical:\n",
            "[[1 2 3]\n",
            " [4 5 6]]\n",
            "\n",
            "Horizontal:\n",
            "[1 2 3 4 5 6]\n"
          ]
        }
      ]
    },
    {
      "cell_type": "markdown",
      "source": [
        "10. (12б) Визначити функцію, яка приймає на вході масив і транспонує його. Скористайтесь методом reshape. І не забудьте почати з docstrings."
      ],
      "metadata": {
        "id": "Fwh5D1pDm3t7"
      }
    },
    {
      "cell_type": "code",
      "source": [
        "def transpose_arr(array):\n",
        "    \"\"\"\n",
        "    Transposes the input array using the reshape method.\n",
        "    Parameters:\n",
        "    array (numpy.ndarray): The input array to be transposed.\n",
        "    Returns:\n",
        "    numpy.ndarray: The transposed array.\n",
        "    \"\"\"\n",
        "    transposed = array.reshape(array.shape[::-1])\n",
        "    return transposed\n",
        "input = np.array([[1, 2, 3],\n",
        "                        [4, 5, 6]])\n",
        "\n",
        "transposed = transpose_arr(input)\n",
        "print(\"Input:\")\n",
        "print(input)\n",
        "print(\"\\nTransposed:\")\n",
        "print(transposed)\n"
      ],
      "metadata": {
        "id": "FSWZq0mkm31Z",
        "colab": {
          "base_uri": "https://localhost:8080/"
        },
        "outputId": "1d578d48-f104-44bc-92c0-7ffc70e492c8"
      },
      "execution_count": 19,
      "outputs": [
        {
          "output_type": "stream",
          "name": "stdout",
          "text": [
            "Input:\n",
            "[[1 2 3]\n",
            " [4 5 6]]\n",
            "\n",
            "Transposed:\n",
            "[[1 2]\n",
            " [3 4]\n",
            " [5 6]]\n"
          ]
        }
      ]
    },
    {
      "cell_type": "markdown",
      "source": [
        "11. (7б) Створіть два масиви. Використовучи ці масиви, продемонструйте 1) операцію по-елементного додавання, 2) операцію по-елементного віднімання, 3) множення масиву на число, 4) операцію по-елементного множення, і 5) матричного множення."
      ],
      "metadata": {
        "id": "Nnxk8vqYm379"
      }
    },
    {
      "cell_type": "code",
      "source": [
        "array1 = np.array([[1, 2, 3],\n",
        "                   [4, 5, 6]])\n",
        "\n",
        "array2 = np.array([[7, 8, 9],\n",
        "                   [10, 11, 12]])\n",
        "\n",
        "addition = array1 + array2\n",
        "\n",
        "subtraction = array1 - array2\n",
        "\n",
        "scalar = 5\n",
        "scalar_multiplication = scalar * array1\n",
        "\n",
        "multiplication = array1 * array2\n",
        "\n",
        "matrix_multiplication = np.dot(array1, array2.T)\n",
        "\n",
        "print(\"Addition:\")\n",
        "print(addition)\n",
        "\n",
        "print(\"\\nSubtraction:\")\n",
        "print(subtraction)\n",
        "\n",
        "print(\"\\nScalar Multiplication:\")\n",
        "print(scalar_multiplication)\n",
        "\n",
        "print(\"\\nMultiplication:\")\n",
        "print(multiplication)\n",
        "\n",
        "print(\"\\nMatrix Multiplication:\")\n",
        "print(matrix_multiplication)\n"
      ],
      "metadata": {
        "id": "qO1rfvmVm4BI",
        "colab": {
          "base_uri": "https://localhost:8080/"
        },
        "outputId": "8c7e842d-5145-4d07-f606-75a7b79491a7"
      },
      "execution_count": 21,
      "outputs": [
        {
          "output_type": "stream",
          "name": "stdout",
          "text": [
            "Addition:\n",
            "[[ 8 10 12]\n",
            " [14 16 18]]\n",
            "\n",
            "Subtraction:\n",
            "[[-6 -6 -6]\n",
            " [-6 -6 -6]]\n",
            "\n",
            "Scalar Multiplication:\n",
            "[[ 5 10 15]\n",
            " [20 25 30]]\n",
            "\n",
            "Multiplication:\n",
            "[[ 7 16 27]\n",
            " [40 55 72]]\n",
            "\n",
            "Matrix Multiplication:\n",
            "[[ 50  68]\n",
            " [122 167]]\n"
          ]
        }
      ]
    },
    {
      "cell_type": "markdown",
      "source": [
        "12. (7б) Створіть двовимірний масив (матрицю) та розрахуйте: 1) мінімальне число, 2) максимальне число, 3) суму чисел, 4) мінімальні числа для кожного рядка, 5) максимальні числа для кожного стовпчика."
      ],
      "metadata": {
        "id": "7aGdszTGuMCC"
      }
    },
    {
      "cell_type": "code",
      "source": [
        "matrix = np.array([[1, 2, 3],\n",
        "                   [4, 5, 6],\n",
        "                   [7, 8, 9]])\n",
        "\n",
        "min_value = np.min(matrix)\n",
        "max_value = np.max(matrix)\n",
        "sum = np.sum(matrix)\n",
        "min_values_row = np.min(matrix, axis=1)\n",
        "max_values_col = np.max(matrix, axis=0)\n",
        "\n",
        "print(\"Min Value:\", min_value)\n",
        "print(\"Max Value:\", max_value)\n",
        "print(\"Sum:\", sum)\n",
        "print(\"Minimum Val:\", min_values_row)\n",
        "print(\"Maximum Val:\", max_values_col)"
      ],
      "metadata": {
        "id": "RL_39YdauMKS",
        "colab": {
          "base_uri": "https://localhost:8080/"
        },
        "outputId": "7d192fee-b827-4210-fcf0-5d230d9cf1fe"
      },
      "execution_count": 40,
      "outputs": [
        {
          "output_type": "stream",
          "name": "stdout",
          "text": [
            "Min Value: 1\n",
            "Max Value: 9\n",
            "Sum: 45\n",
            "Minimum Val: [1 4 7]\n",
            "Maximum Val: [7 8 9]\n"
          ]
        }
      ]
    },
    {
      "cell_type": "markdown",
      "source": [
        "13. (6б) Використовуючи двовимірний масив з попереднього завдання, отримайте значення першого та другого стовпчика всіх рядків, окрім першого та останнього."
      ],
      "metadata": {
        "id": "uvyeF79RuMQz"
      }
    },
    {
      "cell_type": "code",
      "source": [
        "selected= matrix[1:-1, 0:2]\n",
        "print(selected)"
      ],
      "metadata": {
        "id": "NH6zBoNhuMWp",
        "colab": {
          "base_uri": "https://localhost:8080/"
        },
        "outputId": "088fe84d-590f-4e4d-f7ed-50a5b1b517f7"
      },
      "execution_count": 39,
      "outputs": [
        {
          "output_type": "stream",
          "name": "stdout",
          "text": [
            "[[4 5]]\n"
          ]
        }
      ]
    },
    {
      "cell_type": "markdown",
      "source": [
        "14. (7б) Створіть матрицю , де деякі елементи повторюються. Знайдіть унікальні значення елементів цієї матриці та їхні частоти."
      ],
      "metadata": {
        "id": "g3DK8A3YuMcE"
      }
    },
    {
      "cell_type": "code",
      "source": [
        "matrix = np.array([[1, 2, 3, 4],\n",
        "                   [2, 3, 4, 5],\n",
        "                   [3, 4, 5, 6],\n",
        "                   [4, 5, 6, 6]])\n",
        "\n",
        "flat_matrix = matrix.flatten()\n",
        "unique, counts = np.unique(flat_matrix, return_counts=True)\n",
        "for value, count in zip(unique, counts):\n",
        "    print(f\"Value: {value}, Frequency: {count}\")\n",
        "\n"
      ],
      "metadata": {
        "id": "n4qUDEBPuMhO",
        "colab": {
          "base_uri": "https://localhost:8080/"
        },
        "outputId": "dc2edc06-b430-4b02-9839-ba98ecd987b0"
      },
      "execution_count": 36,
      "outputs": [
        {
          "output_type": "stream",
          "name": "stdout",
          "text": [
            "Value: 1, Frequency: 1\n",
            "Value: 2, Frequency: 2\n",
            "Value: 3, Frequency: 3\n",
            "Value: 4, Frequency: 4\n",
            "Value: 5, Frequency: 3\n",
            "Value: 6, Frequency: 3\n"
          ]
        }
      ]
    },
    {
      "cell_type": "markdown",
      "source": [
        "15. (20б) Тривимірні масиви (тензори) дуже широко використовуються для вирішення задач компʼютерного зору, де один вимір відповідає за висоту зображення у пікселях, другий - за ширину зображення у пікселях, а третій - RGB шар. Значення такого масиву зазвичай знаходяться у проміжку від 0 до 255, що є позначенням для інтенсивності того чи іншого кольору (див. зображення нижче). Пропоную вам, маючи знання з numpy, торкнутись до світу роботи з особливим типом даних - зображеннями. Сподіваюсь, когось з вас це зацікавить.\n",
        "\n",
        "Завдання:\n",
        "1. Визначити змінні для висоти та ширини майбутнього зображення. Присвоїти їм значення 480 та 720 відповідно.\n",
        "2. Визначте змінну для зображення, яка прийматиме тривимірний масив відповідного розміру з пустими значеннями, які ми заповнимо пізніше. Тип даних масиву вкажіть np.uint8 (це спеціальний тип даних для шкали пікселів зображень).\n",
        "3. Розділимо зображення навпіл по висоті. Для цього обчисліть серединний піксель та збережіть його у змінну. Будьте уважні, це число буде використовуватися для слайсингу, де крайні значення не включаються у діапазон.\n",
        "4. Розфарбуємо верхню частину зображення. За допомогою слайсингу на змінній з зображенням, виділіть першу половину пікселів по висоті, залишаючи всі пікселі в рядках по ширині та глибині (всі 3 RGB шари). Та призначте їй кортеж (0, 87, 184), що позначає колір у трьох RGB шарах відповідно.\n",
        "5. Тепер розфарбуємо нижню частину зображення. За допомогою слайсингу на змінній з зображенням, виділіть другу половину пікселів по висоті, залишаючи всі пікселі в рядках по ширині та глибині (всі 3 RGB шари). Та призначте їй кортеж (255, 215, 0), що позначає колір у трьох RGB шарах відповідно. Вже здогадуєтесь, що за зображення ви створюєте?)\n",
        "6. На останньому рядку комірки просто введіть назву змінної з зображенням.\n",
        "\n",
        "\n",
        "![текст посилання](https://drive.google.com/uc?id=15vio4RLXdoRDKvulHvpk7u9RQxbe_qXL)\n",
        "\n",
        "![текст посилання](https://drive.google.com/uc?id=1c7Z9yxNgFoMYFXUmmzNEd9cJDZE2TWov)\n",
        "\n",
        "![текст посилання](https://drive.google.com/uc?id=1d9bT_fqbxCV7_b8c8Cbx2KEGVJUKenqh)\n",
        "\n",
        "![текст посилання](https://drive.google.com/uc?id=16r2XB6MO-E9dltIqsbumtoIQhkRfsbZ_)\n"
      ],
      "metadata": {
        "id": "yE0_eoYOD0so"
      }
    },
    {
      "cell_type": "code",
      "source": [
        "height = 480\n",
        "width = 720\n",
        "image = np.zeros((height, width, 3), dtype=np.uint8)\n",
        "mid_height = height // 2\n",
        "image[:mid_height, :, :] = [0, 87, 184]\n",
        "image[mid_height:, :, :] = [255, 215, 0]\n",
        "image\n"
      ],
      "metadata": {
        "id": "QFn38NTNuMsr",
        "colab": {
          "base_uri": "https://localhost:8080/",
          "height": 520
        },
        "outputId": "9e8f7adc-911d-4d28-9b21-e3d8adb4f608"
      },
      "execution_count": 37,
      "outputs": [
        {
          "output_type": "execute_result",
          "data": {
            "text/plain": [
              "array([[[  0,  87, 184],\n",
              "        [  0,  87, 184],\n",
              "        [  0,  87, 184],\n",
              "        ...,\n",
              "        [  0,  87, 184],\n",
              "        [  0,  87, 184],\n",
              "        [  0,  87, 184]],\n",
              "\n",
              "       [[  0,  87, 184],\n",
              "        [  0,  87, 184],\n",
              "        [  0,  87, 184],\n",
              "        ...,\n",
              "        [  0,  87, 184],\n",
              "        [  0,  87, 184],\n",
              "        [  0,  87, 184]],\n",
              "\n",
              "       [[  0,  87, 184],\n",
              "        [  0,  87, 184],\n",
              "        [  0,  87, 184],\n",
              "        ...,\n",
              "        [  0,  87, 184],\n",
              "        [  0,  87, 184],\n",
              "        [  0,  87, 184]],\n",
              "\n",
              "       ...,\n",
              "\n",
              "       [[255, 215,   0],\n",
              "        [255, 215,   0],\n",
              "        [255, 215,   0],\n",
              "        ...,\n",
              "        [255, 215,   0],\n",
              "        [255, 215,   0],\n",
              "        [255, 215,   0]],\n",
              "\n",
              "       [[255, 215,   0],\n",
              "        [255, 215,   0],\n",
              "        [255, 215,   0],\n",
              "        ...,\n",
              "        [255, 215,   0],\n",
              "        [255, 215,   0],\n",
              "        [255, 215,   0]],\n",
              "\n",
              "       [[255, 215,   0],\n",
              "        [255, 215,   0],\n",
              "        [255, 215,   0],\n",
              "        ...,\n",
              "        [255, 215,   0],\n",
              "        [255, 215,   0],\n",
              "        [255, 215,   0]]], dtype=uint8)"
            ],
            "text/html": [
              "<style>\n",
              "      .ndarray_repr .ndarray_raw_data {\n",
              "        display: none;\n",
              "      }\n",
              "      .ndarray_repr.show_array .ndarray_raw_data {\n",
              "        display: block;\n",
              "      }\n",
              "      .ndarray_repr.show_array .ndarray_image_preview {\n",
              "        display: none;\n",
              "      }\n",
              "      </style>\n",
              "      <div id=\"id-f1794a6d-68b8-4217-8c21-5a84c6005d16\" class=\"ndarray_repr\"><pre>ndarray (480, 720, 3) <button style=\"padding: 0 2px;\">show data</button></pre><img src=\"data:image/png;base64,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\" class=\"ndarray_image_preview\" /><pre class=\"ndarray_raw_data\">array([[[  0,  87, 184],\n",
              "        [  0,  87, 184],\n",
              "        [  0,  87, 184],\n",
              "        ...,\n",
              "        [  0,  87, 184],\n",
              "        [  0,  87, 184],\n",
              "        [  0,  87, 184]],\n",
              "\n",
              "       [[  0,  87, 184],\n",
              "        [  0,  87, 184],\n",
              "        [  0,  87, 184],\n",
              "        ...,\n",
              "        [  0,  87, 184],\n",
              "        [  0,  87, 184],\n",
              "        [  0,  87, 184]],\n",
              "\n",
              "       [[  0,  87, 184],\n",
              "        [  0,  87, 184],\n",
              "        [  0,  87, 184],\n",
              "        ...,\n",
              "        [  0,  87, 184],\n",
              "        [  0,  87, 184],\n",
              "        [  0,  87, 184]],\n",
              "\n",
              "       ...,\n",
              "\n",
              "       [[255, 215,   0],\n",
              "        [255, 215,   0],\n",
              "        [255, 215,   0],\n",
              "        ...,\n",
              "        [255, 215,   0],\n",
              "        [255, 215,   0],\n",
              "        [255, 215,   0]],\n",
              "\n",
              "       [[255, 215,   0],\n",
              "        [255, 215,   0],\n",
              "        [255, 215,   0],\n",
              "        ...,\n",
              "        [255, 215,   0],\n",
              "        [255, 215,   0],\n",
              "        [255, 215,   0]],\n",
              "\n",
              "       [[255, 215,   0],\n",
              "        [255, 215,   0],\n",
              "        [255, 215,   0],\n",
              "        ...,\n",
              "        [255, 215,   0],\n",
              "        [255, 215,   0],\n",
              "        [255, 215,   0]]], dtype=uint8)</pre></div><script>\n",
              "      (() => {\n",
              "      const titles = ['show data', 'hide data'];\n",
              "      let index = 0\n",
              "      document.querySelector('#id-f1794a6d-68b8-4217-8c21-5a84c6005d16 button').onclick = (e) => {\n",
              "        document.querySelector('#id-f1794a6d-68b8-4217-8c21-5a84c6005d16').classList.toggle('show_array');\n",
              "        index = (++index) % 2;\n",
              "        document.querySelector('#id-f1794a6d-68b8-4217-8c21-5a84c6005d16 button').textContent = titles[index];\n",
              "        e.preventDefault();\n",
              "        e.stopPropagation();\n",
              "      }\n",
              "      })();\n",
              "    </script>"
            ]
          },
          "metadata": {},
          "execution_count": 37
        }
      ]
    }
  ]
}