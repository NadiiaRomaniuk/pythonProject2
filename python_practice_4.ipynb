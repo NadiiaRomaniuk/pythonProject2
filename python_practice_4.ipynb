{
  "nbformat": 4,
  "nbformat_minor": 0,
  "metadata": {
    "colab": {
      "provenance": [],
      "toc_visible": true
    },
    "kernelspec": {
      "name": "python3",
      "display_name": "Python 3"
    },
    "language_info": {
      "name": "python"
    }
  },
  "cells": [
    {
      "cell_type": "markdown",
      "source": [
        "# I. Functions. Arguments."
      ],
      "metadata": {
        "id": "kXpppdVm6wFy"
      }
    },
    {
      "cell_type": "markdown",
      "source": [
        "1. (5б) Назвіть основні 4 смислові  частини, з яких складається функція."
      ],
      "metadata": {
        "id": "u_krJdlbAkVz"
      }
    },
    {
      "cell_type": "markdown",
      "source": [
        "Заголовок, тіло, параметри та значення повернення функції."
      ],
      "metadata": {
        "id": "KKTrTXmHAptb"
      }
    },
    {
      "cell_type": "markdown",
      "source": [
        "2. (3б) Визначте функцію, що приймає 2 аргументи та повертає результат ділення 1го аргумента на інший."
      ],
      "metadata": {
        "id": "ORM4PqJQAtDM"
      }
    },
    {
      "cell_type": "code",
      "execution_count": 6,
      "metadata": {
        "id": "EuDx-z8M6sLo",
        "colab": {
          "base_uri": "https://localhost:8080/"
        },
        "outputId": "a7c8bcbc-83fb-4335-b897-aa47b6fa3976"
      },
      "outputs": [
        {
          "output_type": "stream",
          "name": "stdout",
          "text": [
            "Результат ділення 10 на 2: 5.0\n"
          ]
        }
      ],
      "source": [
        "def divide_numbers(a, b):\n",
        "    result = a / b\n",
        "    return result\n",
        "\n",
        "num1 = 10\n",
        "num2 = 2\n",
        "result = divide_numbers(num1, num2)\n",
        "\n",
        "print(f\"Результат ділення {num1} на {num2}: {result}\")\n"
      ]
    },
    {
      "cell_type": "markdown",
      "source": [
        "3. (2б) Викличте вище визначену функцію, де другий аргумент дорівнює 0."
      ],
      "metadata": {
        "id": "5joQGQ-SAyMe"
      }
    },
    {
      "cell_type": "code",
      "source": [],
      "metadata": {
        "id": "V5cBV1LOA3d-"
      },
      "execution_count": 6,
      "outputs": []
    },
    {
      "cell_type": "code",
      "execution_count": null,
      "metadata": {
        "id": "00InEdTCKH8Y"
      },
      "outputs": [],
      "source": [
        "#виникне помилка\n",
        "def divide_numbers(a, b):\n",
        "    result = a / b\n",
        "    return result\n",
        "\n",
        "num1 = 10\n",
        "num2 = 0\n",
        "result = divide_numbers(num1, num2)\n",
        "\n",
        "print(f\"Результат ділення {num1} на {num2}: {result}\")\n"
      ]
    },
    {
      "cell_type": "markdown",
      "source": [
        "4. (4б) Перевизначте функцію так, щоби у випадку ділення на 0 функція повертала None, а в решті випадків - результат розрахунків."
      ],
      "metadata": {
        "id": "QyimWgW8A43-"
      }
    },
    {
      "cell_type": "code",
      "source": [
        "def divide_numbers(a, b):\n",
        "    if b == 0:\n",
        "        print(\"NONE. Ділення на нуль неможливе\")\n",
        "        return None\n",
        "    result = a / b\n",
        "    return result\n",
        "\n",
        "\n",
        "num1 = 10\n",
        "num2 = 0\n",
        "result = divide_numbers(num1, num2)\n",
        "\n",
        "if result is not None:\n",
        "    print(f\"Результат діл {num1} на {num2}: {result}\")\n"
      ],
      "metadata": {
        "id": "7VIODtSjA8Ek",
        "colab": {
          "base_uri": "https://localhost:8080/"
        },
        "outputId": "a1389e95-d936-43cc-8689-352c6eb5d3c6"
      },
      "execution_count": 7,
      "outputs": [
        {
          "output_type": "stream",
          "name": "stdout",
          "text": [
            "NONE. Ділення на нуль неможливе\n"
          ]
        }
      ]
    },
    {
      "cell_type": "markdown",
      "source": [
        "5. (5б) Визначте функцію, що віднімає одне число від іншого (підказка: це буде 2 аргументи функції). При чому, якщо не визначити, скільки саме має бути віднято від числа, за замовчуванням має відніматися 1. Викличте функцію, передаючи тільки один аргумент."
      ],
      "metadata": {
        "id": "Y8mN0GfkA81l"
      }
    },
    {
      "cell_type": "code",
      "source": [
        "def subtract_numbers(a, b=1):\n",
        "    result = a - b\n",
        "    return result\n",
        "num3 = 10\n",
        "result_with_one_argument = subtract_numbers(num3)\n",
        "print(f\"Результат віднім 1 від {num3}: {result_with_one_argument}\")\n"
      ],
      "metadata": {
        "id": "vg1kxkdgBA50",
        "colab": {
          "base_uri": "https://localhost:8080/"
        },
        "outputId": "360bf16e-a4c6-4308-f5c3-0ba8bc168aff"
      },
      "execution_count": 8,
      "outputs": [
        {
          "output_type": "stream",
          "name": "stdout",
          "text": [
            "Результат віднім 1 від 10: 9\n"
          ]
        }
      ]
    },
    {
      "cell_type": "markdown",
      "source": [
        "6. (7б) Визначте функцію, яка приймає iterable (ітерабельний обʼєкт, напр. список), що складається з 7ми рядкових значень - назв погодних умов (напр. \"sunny\") за кожен день у тижні. Повертає функція словник, де ключами є рядки з погодними умовами, а значеннями - кількість разів, скільки дана погода була протягом тижня (напр. {'sunny': 1, ...}). Викличте цю функцію та виведіть результат її роботи на екран."
      ],
      "metadata": {
        "id": "D3mwQGNOBBs4"
      }
    },
    {
      "cell_type": "code",
      "source": [
        "def count_weather_occurrences(weather_list):\n",
        "    weather_count = {}\n",
        "\n",
        "    for weather_condition in weather_list:\n",
        "        if weather_condition in weather_count:\n",
        "            weather_count[weather_condition] += 1\n",
        "        else:\n",
        "            weather_count[weather_condition] = 1\n",
        "\n",
        "    return weather_count\n",
        "\n",
        "weekly_weath = [\"sunny\", \"rainy\", \"cloudy\", \"sunny\", \"rainy\", \"sunny\", \"cloudy\"]\n",
        "result = count_weather_occurrences(weekly_weath)\n",
        "\n",
        "print(\"Кількість погдн умов за тиждень:\")\n",
        "for condition, count in result.items():\n",
        "    print(f\"{condition}: {count}\")\n"
      ],
      "metadata": {
        "id": "OsWm-hKcBFyn",
        "colab": {
          "base_uri": "https://localhost:8080/"
        },
        "outputId": "47fde489-c360-4cd7-a0b4-e7d9d035c54d"
      },
      "execution_count": 9,
      "outputs": [
        {
          "output_type": "stream",
          "name": "stdout",
          "text": [
            "Кількість погдн умов за тиждень:\n",
            "sunny: 3\n",
            "rainy: 2\n",
            "cloudy: 2\n"
          ]
        }
      ]
    },
    {
      "cell_type": "markdown",
      "source": [
        "7. (15б) Напишіть програму, яка б шукала необхідне число у впорядкованому списку цілочислених значень, де\n",
        "число має вводитись з консолі.\n",
        "власне алгоритм пошуку винесений в окрему функцію, яка повертає булеве значення (знайдено число - True, не знайдено - False).\n",
        "в залежності від результату функції, виведіть на екран повідомлення про успішний або ж неуспішний пошук.\n",
        "Зауваження: використовувати оператор in заборонено."
      ],
      "metadata": {
        "id": "RMiCcdOsBKQT"
      }
    },
    {
      "cell_type": "code",
      "source": [
        "def binar(sorted_list, target):\n",
        "    left, right = 0, len(sorted_list) - 1\n",
        "\n",
        "    while left <= right:\n",
        "        mid = (left + right) // 2\n",
        "        mid_value = sorted_list[mid]\n",
        "\n",
        "        if mid_value == target:\n",
        "            return True\n",
        "        elif mid_value < target:\n",
        "            left = mid + 1\n",
        "        else:\n",
        "            right = mid - 1\n",
        "\n",
        "    return False\n",
        "\n",
        "def main():\n",
        "    sorted_numbers = [1, 3, 5, 7, 9, 11, 13, 15, 17, 19]\n",
        "    target_number = int(input(\"Введіть число для пошуку: \"))\n",
        "    if binar(sorted_numbers, target_number):\n",
        "        print(f\"Число {target_number} знайдено у списку\")\n",
        "    else:\n",
        "        print(f\"Число {target_number} не знайдено у списку\")\n",
        "\n",
        "if __name__ == \"__main__\":\n",
        "    main()\n"
      ],
      "metadata": {
        "id": "UNCZg65OBOy-"
      },
      "execution_count": null,
      "outputs": []
    },
    {
      "cell_type": "markdown",
      "source": [
        "# II. Lambda functions."
      ],
      "metadata": {
        "id": "Ae1n_OvLBTsy"
      }
    },
    {
      "cell_type": "markdown",
      "source": [
        "8. (4б) В яких випадках варто використовувати лямбда-функції?"
      ],
      "metadata": {
        "id": "xaD_wSlaCWen"
      }
    },
    {
      "cell_type": "markdown",
      "source": [
        "Коли треба визначити коротку функцію для використання однієї операції або ж коли потрібно передати у функцію вищого порядку"
      ],
      "metadata": {
        "id": "42MB6OoLCakR"
      }
    },
    {
      "cell_type": "markdown",
      "source": [
        "9. (9б) Визначте список з рядками. Після цього визначте анонімну функцію для отримання першого символу у верхньому регістрі для кожного рядка списку.\n",
        "Підказка: використовуйте анонімну функцію в якості агрумента до вбудованої ф-ції, яка створена для застосування функцій над iterable обʼєктами. Результат виведіть на екран у вигляді кортежу."
      ],
      "metadata": {
        "id": "USrzrk7GCedk"
      }
    },
    {
      "cell_type": "code",
      "source": [
        "string_ls = [\"aple\", \"banana\", \"cherry\", \"pear\"]\n",
        "result_tuple = tuple(map(lambda x: x[0].upper(), string_ls))\n",
        "print(result_tuple)\n"
      ],
      "metadata": {
        "id": "M8QWUsMlCjWH"
      },
      "execution_count": null,
      "outputs": []
    },
    {
      "cell_type": "markdown",
      "source": [
        "10. (10б) Визначте список з числовими значеннями (і цілими, і з рухомою комою). а) Відфільтруйте всі числа, які діляться націло на 3 за допомогою вбудованої функції та анонімної функції в якості аргумента). Збережіть результат у змінній, не приводяти явно до будь-якого типу. б) Використовуючи результат на кроці 12.а у якості аргументу, та за допомогою лямбда-функції в якості іншого аргументу до вбудованої функції, додайте до кожного елементу число 1 та опісля зведіть у квадрат. Остаточний результат приведіть явно до списку та виведіть на екран."
      ],
      "metadata": {
        "id": "9fyUhXOoCtGp"
      }
    },
    {
      "cell_type": "code",
      "source": [
        "numbers = [2, 5, 8, 10, 12, 15.5, 18.3, 21]\n",
        "filtered_numbers = filter(lambda x: x % 3 == 0, numbers)\n",
        "result = list(map(lambda x: (x + 1) ** 2, filtered_numbers))\n",
        "print(tuple(result))\n"
      ],
      "metadata": {
        "id": "exEx2_okCsql",
        "colab": {
          "base_uri": "https://localhost:8080/"
        },
        "outputId": "6ed65423-3fcb-4c32-eb7e-9475c2dc17a9"
      },
      "execution_count": null,
      "outputs": [
        {
          "output_type": "stream",
          "name": "stdout",
          "text": [
            "(169, 484)\n"
          ]
        }
      ]
    },
    {
      "cell_type": "markdown",
      "source": [
        "# III. Decorators."
      ],
      "metadata": {
        "id": "o_x8cG_WC7jp"
      }
    },
    {
      "cell_type": "markdown",
      "source": [
        "11. (11б) Визначте декоратор, який би виводив у консоль повідомлення про початок роботи і назву функції (напр. my_function._ _ name _ _), а після відпрацювання функції - повідомлення про закінчення роботи і назву функції, що задекорована."
      ],
      "metadata": {
        "id": "mhxS4-mfC8LQ"
      }
    },
    {
      "cell_type": "code",
      "source": [
        "def my_decorator(func):\n",
        "    def wrapper(*args, **kwargs):\n",
        "        print(f\"Початок роботи функ {func.__name__}\")\n",
        "        result = func(*args, **kwargs)\n",
        "        print(f\"Закінчення роботи функ {func.__name__}\")\n",
        "        return result\n",
        "    return wrapper\n",
        "\n",
        "@my_decorator\n",
        "def example_function():\n",
        "    print(\"Виконання функ\")\n",
        "example_function()\n"
      ],
      "metadata": {
        "id": "srd1ygWjDGhO",
        "colab": {
          "base_uri": "https://localhost:8080/"
        },
        "outputId": "fcd0dffb-80e4-4b0b-c3c0-bedad8e2925e"
      },
      "execution_count": null,
      "outputs": [
        {
          "output_type": "stream",
          "name": "stdout",
          "text": [
            "Початок роботи функ example_function\n",
            "Виконання функ\n",
            "Закінчення роботи функ example_function\n"
          ]
        }
      ]
    },
    {
      "cell_type": "markdown",
      "source": [
        "12. (4б) Задекоруйте двома різними способами функції з завдання 4 та 5 декоратором із завдання 11. (**УВАГА**: не декоруйте функції двічі!)."
      ],
      "metadata": {
        "id": "rxGZwVBiDph3"
      }
    },
    {
      "cell_type": "code",
      "source": [
        "def my_decorator(func):\n",
        "    def wrapper(*args, **kwargs):\n",
        "        print(f\"Початок роботи функ {func.__name__}\")\n",
        "        result = func(*args, **kwargs)\n",
        "        print(f\"Закінчення роботи функ {func.__name__}\")\n",
        "        return result\n",
        "    return wrapper\n",
        "\n",
        "@my_decorator\n",
        "def subtract_numbers(a, b=1):\n",
        "    result = a - b\n",
        "    return result\n",
        "def divide_numbers(a, b):\n",
        "    if b == 0:\n",
        "        print(\"NONE. Ділення на нуль неможливе\")\n",
        "        return None\n",
        "    result = a / b\n",
        "    return result\n",
        "\n"
      ],
      "metadata": {
        "id": "06lj7eq_DwZe"
      },
      "execution_count": 3,
      "outputs": []
    },
    {
      "cell_type": "markdown",
      "source": [
        "13. (2б) Викличте одну з задекорованих функцій і виведіть її результат на екран."
      ],
      "metadata": {
        "id": "P0ep1urBDzf-"
      }
    },
    {
      "cell_type": "code",
      "source": [
        "num1 = 10\n",
        "num2 = 2\n",
        "result = divide_numbers(num1, num2)\n",
        "\n",
        "if result is not None:\n",
        "    print(f\"Результат діл {num1} на {num2}: {result}\")\n"
      ],
      "metadata": {
        "id": "1QvTw0ctD0S3",
        "colab": {
          "base_uri": "https://localhost:8080/"
        },
        "outputId": "2cee9c7c-53ff-417b-b6ba-518346cd75bd"
      },
      "execution_count": 5,
      "outputs": [
        {
          "output_type": "stream",
          "name": "stdout",
          "text": [
            "Початок роботи функ divide_numbers\n",
            "Закінчення роботи функ divide_numbers\n",
            "Результат діл 10 на 2: 5.0\n"
          ]
        }
      ]
    },
    {
      "cell_type": "markdown",
      "source": [
        "# IV. Recursion."
      ],
      "metadata": {
        "id": "poECCpuoD2S9"
      }
    },
    {
      "cell_type": "markdown",
      "source": [
        "14. (4б) Назвіть дві частини функції, які є обовʼязковими для того, щоб називати її рекурсивною."
      ],
      "metadata": {
        "id": "DqkURfdsD7MY"
      }
    },
    {
      "cell_type": "markdown",
      "source": [
        "* Визначення base case та зміна аргументів для досягнення base case"
      ],
      "metadata": {
        "id": "HYW6ttIeIQIU"
      }
    },
    {
      "cell_type": "markdown",
      "source": [
        "15. (15б) Визначте функцію, яка рекурсивно реалізовує пошук числа у послідовності Фібоначчі за її індексом (нумерація починається з нуля). Наприклад, потрібно знайти перше число у послідовності, тоді функція прийматиме 0 у якості аргумента і повертатиме 1, якщо ж знаходити третє число (індекс 2) послідовності, то функція повертатиме 2, якщо ж знаходити десяте число (індекс 9), то функція повертатиме 55."
      ],
      "metadata": {
        "id": "WYVt20UmEA35"
      }
    },
    {
      "cell_type": "code",
      "source": [
        "def fibonacci_recursive(index):\n",
        "    if index == 0:\n",
        "        return 0\n",
        "    elif index == 1:\n",
        "        return 1\n",
        "    else:\n",
        "        return fibonacci_recursive(index - 1) + fibonacci_recursive(index - 2)\n",
        "\n",
        "index_to_find = 9\n",
        "result = fibonacci_recursive(index_to_find)\n",
        "print(f\"Число Фібоначчі за індекс {index_to_find}: {result}\")\n"
      ],
      "metadata": {
        "id": "xIMhp05AIpV_",
        "colab": {
          "base_uri": "https://localhost:8080/"
        },
        "outputId": "d80019f3-e1d3-44e7-96e5-419aef9e4926"
      },
      "execution_count": null,
      "outputs": [
        {
          "output_type": "stream",
          "name": "stdout",
          "text": [
            "Число Фібоначчі за індекс 9: 34\n"
          ]
        }
      ]
    }
  ]
}