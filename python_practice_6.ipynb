{
  "nbformat": 4,
  "nbformat_minor": 0,
  "metadata": {
    "colab": {
      "provenance": []
    },
    "kernelspec": {
      "name": "python3",
      "display_name": "Python 3"
    },
    "language_info": {
      "name": "python"
    }
  },
  "cells": [
    {
      "cell_type": "markdown",
      "source": [
        "# I. Docstrings."
      ],
      "metadata": {
        "id": "5qvkYXU42nND"
      }
    },
    {
      "cell_type": "markdown",
      "source": [
        "1. Що таке docstrings? Навіщо вони потрібні?"
      ],
      "metadata": {
        "id": "7VUggLjZ4NNb"
      }
    },
    {
      "cell_type": "markdown",
      "source": [
        "*це рядки документації, що вбудовані в тіло коду модуля, класу, функції чи методу. Вони призначені для опису функціональності коду та інформації щодо використання коду"
      ],
      "metadata": {
        "id": "_oqTO_30GlHj"
      }
    },
    {
      "cell_type": "markdown",
      "source": [
        "2. Створіть docstrings для функції, що розраховує суму двох цілих чисел та повертає їхню суму."
      ],
      "metadata": {
        "id": "bRumAhtgG3jV"
      }
    },
    {
      "cell_type": "code",
      "source": [
        "    \"\"\"\n",
        "    Function to calculate the sum of two integers\n",
        "\n",
        "    Parameters:\n",
        "    a (int): first integer\n",
        "    b (int): second integer\n",
        "\n",
        "    Returns:\n",
        "    int: sum of two integers\n",
        "    \"\"\""
      ],
      "metadata": {
        "id": "G_xCtwQGGkew",
        "colab": {
          "base_uri": "https://localhost:8080/",
          "height": 35
        },
        "outputId": "f3c62325-9cbc-4b5c-c858-63490e3adf3c"
      },
      "execution_count": 4,
      "outputs": [
        {
          "output_type": "execute_result",
          "data": {
            "text/plain": [
              "'\\nFunction to calculate the sum of two integers\\n\\nParameters:\\na (int): first integer\\nb (int): second integer\\n\\nReturns:\\nint: sum of two integers\\n'"
            ],
            "application/vnd.google.colaboratory.intrinsic+json": {
              "type": "string"
            }
          },
          "metadata": {},
          "execution_count": 4
        }
      ]
    },
    {
      "cell_type": "markdown",
      "source": [
        "3. Визначте функцію, що розраховує суму двох цілих чисел та повертає їхню суму, використовуючи документацію з завдання 2."
      ],
      "metadata": {
        "id": "gibK8CjDHBfc"
      }
    },
    {
      "cell_type": "code",
      "execution_count": 10,
      "metadata": {
        "id": "wh5tMJgh0zer",
        "colab": {
          "base_uri": "https://localhost:8080/"
        },
        "outputId": "70f5146d-1d34-480c-a265-534ccacff142"
      },
      "outputs": [
        {
          "output_type": "stream",
          "name": "stdout",
          "text": [
            "The sum is: 13\n"
          ]
        }
      ],
      "source": [
        "def sum(a, b):\n",
        "    return a + b\n",
        "\n",
        "result = sum(5, 8)\n",
        "print(\"The sum is:\", result)"
      ]
    },
    {
      "cell_type": "markdown",
      "source": [
        "4. Створіть docstring для функції, що перевіряє, чи є число простим. Увага: під час виклику функції ми очікуємо, що користувач(ка) може подати на вхід будь-який тип обʼєкту. У випадку, якщо на вході не підходящий тип даних, маємо кинути помилку."
      ],
      "metadata": {
        "id": "PI-mNDQNIDUm"
      }
    },
    {
      "cell_type": "code",
      "source": [
        "def is_prime_number(num):\n",
        "    \"\"\"\n",
        "    Function to check if a given number is a prime number\n",
        "\n",
        "    Parameters:\n",
        "    num (int): The number to be checked for primality\n",
        "\n",
        "    Returns:\n",
        "    bool: True if the number is prime, False otherwise\n",
        "\n",
        "    Raises:\n",
        "    TypeError: If the input is not an integer\n",
        "    ValueError: If the input is a negative integer\n",
        "    \"\"\"\n",
        ""
      ],
      "metadata": {
        "id": "3nTbEkJ0I4Gn"
      },
      "execution_count": 11,
      "outputs": []
    },
    {
      "cell_type": "markdown",
      "source": [
        "5. Визначте функцію, яка перевіряє, чи є число простим, використовуючи документацію з завдання 4."
      ],
      "metadata": {
        "id": "OMRx9emvI4NM"
      }
    },
    {
      "cell_type": "code",
      "source": [
        "def is_prime_number(num):\n",
        "    if not isinstance(num, int):\n",
        "        raise TypeError(\"Input must be int\")\n",
        "    if num < 0:\n",
        "        raise ValueError(\"Input must be positive int\")\n",
        "\n",
        "    if num < 2:\n",
        "        return False\n",
        "    for i in range(2, int(num**0.5) + 1):\n",
        "        if num % i == 0:\n",
        "            return False\n",
        "    return True\n",
        "\n",
        "prime_number = 13\n",
        "result_prime = is_prime_number(prime_number)\n",
        "print(f\"Is {prime_number} a prime number? {result_prime}\")\n",
        "\n",
        "no_prime_number = 10\n",
        "result_non_prime = is_prime_number(no_prime_number)\n",
        "print(f\"Is {no_prime_number} a prime number? {result_non_prime}\")\n",
        "\n",
        "try:\n",
        "    non_integer_input = \"aaaa\"\n",
        "    is_prime_number(non_integer_input)\n",
        "except TypeError as e:\n",
        "    print(f\"Error: {e}\")\n",
        "\n",
        "try:\n",
        "    negative_integer = -7\n",
        "    is_prime_number(negative_integer)\n",
        "except ValueError as e:\n",
        "    print(f\"Error: {e}\")\n",
        "\n"
      ],
      "metadata": {
        "id": "wONHC4OEJARD",
        "colab": {
          "base_uri": "https://localhost:8080/"
        },
        "outputId": "daf9593f-e2bb-47c3-d5b1-73c7e63c0b1d"
      },
      "execution_count": 20,
      "outputs": [
        {
          "output_type": "stream",
          "name": "stdout",
          "text": [
            "Is 13 a prime number? True\n",
            "Is 10 a prime number? False\n",
            "Error: Input must be int\n",
            "Error: Input must be positive int\n"
          ]
        }
      ]
    },
    {
      "cell_type": "markdown",
      "source": [
        "6. Створіть docstring для функції, що повертає найдовший спільний префікс двох рядків не залежно від регістру. Обовʼязково включіть два приклади згідно формату."
      ],
      "metadata": {
        "id": "1r9WQ5Y9JULV"
      }
    },
    {
      "cell_type": "code",
      "source": [
        "def longest_common_prefix(str1, str2):\n",
        "    \"\"\"\n",
        "    Function to find the longest common prefix of two strings regardless of case.\n",
        "\n",
        "    Parameters:\n",
        "    str1 (str): The first input string.\n",
        "    str2 (str): The second input string.\n",
        "\n",
        "    Returns:\n",
        "    str: The longest common prefix of the two strings.\n",
        "\n",
        "    Examples:\n",
        "    >>> longest_common_prefix(\"cat\", \"car\")\n",
        "    'H'\n",
        "\n",
        "    >>> longest_common_prefix(\"python\", \"Pythagoras\")\n",
        "    'py'\n",
        "    \"\"\"\n",
        ""
      ],
      "metadata": {
        "id": "mqTHuBGsKY2V"
      },
      "execution_count": 22,
      "outputs": []
    },
    {
      "cell_type": "markdown",
      "source": [
        "7. Реалізуйте функцію згідно документації із завдання 6, використовуючи її."
      ],
      "metadata": {
        "id": "ZVkQ4jo2KZrx"
      }
    },
    {
      "cell_type": "code",
      "source": [
        "def longest_common_prefix(str1, str2):\n",
        "    str1_lower = str1.lower()\n",
        "    str2_lower = str2.lower()\n",
        "    min_len = min(len(str1_lower), len(str2_lower))\n",
        "    index = 0\n",
        "    while index < min_len and str1_lower[index] == str2_lower[index]:\n",
        "        index += 1\n",
        "    return str1_lower[:index]\n",
        "\n",
        "example1_str1 = \"cat\"\n",
        "example1_str2 = \"car\"\n",
        "result_example1 = longest_common_prefix(example1_str1, example1_str2)\n",
        "print(f\"Example 1: Longest common prefix of '{example1_str1}' and '{example1_str2}' is '{result_example1}'\")\n",
        "\n",
        "\n",
        "example2_str1 = \"python\"\n",
        "example2_str2 = \"Pythagoras\"\n",
        "result_example2 = longest_common_prefix(example2_str1, example2_str2)\n",
        "print(f\"Example 2: Longest common prefix of '{example2_str1}' and '{example2_str2}' is '{result_example2}'\")\n",
        "\n",
        "\n"
      ],
      "metadata": {
        "id": "e1odBJATKd7L",
        "colab": {
          "base_uri": "https://localhost:8080/"
        },
        "outputId": "2875857c-8b8a-4785-d80b-5e5893030d3a"
      },
      "execution_count": 26,
      "outputs": [
        {
          "output_type": "stream",
          "name": "stdout",
          "text": [
            "Example 1: Longest common prefix of 'cat' and 'car' is 'ca'\n",
            "Example 2: Longest common prefix of 'python' and 'Pythagoras' is 'pyth'\n"
          ]
        }
      ]
    },
    {
      "cell_type": "markdown",
      "source": [
        "8. Створіть docstring для функції, що розраховує суму щомісячного платежу по єОселі."
      ],
      "metadata": {
        "id": "OXbxPfuZKlQb"
      }
    },
    {
      "cell_type": "code",
      "source": [
        "def calculate_monthly_payment(principal, annual_interest_rate, years):\n",
        "    \"\"\"\n",
        "    Function to calculate the monthly payment for a mortgage loan with eOselia.\n",
        "\n",
        "    Parameters:\n",
        "    principal (float): The loan amount or principal.\n",
        "    annual_interest_rate (float): The annual interest rate as a percentage.\n",
        "    years (int): The number of years for the loan term.\n",
        "\n",
        "    Returns:\n",
        "    float: The monthly payment for the mortgage.\n",
        "\n",
        "    Formula:\n",
        "    The function uses the formula for calculating a fixed monthly payment\n",
        "    based on the loan amount, annual interest rate, and loan term.\n",
        "    Monthly payment = P * [r * (1 + r)^n] / [(1 + r)^n - 1]\n",
        "    where P is the principal, r is the monthly interest rate (annual rate / 12),\n",
        "    and n is the total number of monthly payments (loan term * 12).\n",
        "\n",
        "    Example:\n",
        "    >>> calculate_monthly_payment(100000, 5, 30)\n",
        "    536.82\n",
        "    \"\"\"\n"
      ],
      "metadata": {
        "id": "iFGckfs3KqHq"
      },
      "execution_count": null,
      "outputs": []
    },
    {
      "cell_type": "markdown",
      "source": [
        "9. Використовуючи документацію із завдання 8, реалізуйте відповідну функцію."
      ],
      "metadata": {
        "id": "xQjsUPhAOUq1"
      }
    },
    {
      "cell_type": "code",
      "source": [
        "def calculate_monthly_payment(principal, annual_interest_rate, years):\n",
        "\n",
        "    monthly_interest_rate = annual_interest_rate / 100 / 12\n",
        "\n",
        "    total_payments = years * 12\n",
        "\n",
        "    monthly_payment = principal * (monthly_interest_rate * (1 + monthly_interest_rate)**total_payments) / \\\n",
        "                      ((1 + monthly_interest_rate)**total_payments - 1)\n",
        "\n",
        "    return round(monthly_payment, 2)\n",
        "\n",
        "loan_amount = 100000\n",
        "annual_interest_rate = 5\n",
        "loan_term_years = 30\n",
        "\n",
        "result_monthly_payment = calculate_monthly_payment(loan_amount, annual_interest_rate, loan_term_years)\n",
        "print(f\"For a loan amount of {loan_amount}, an annual interest rate of {annual_interest_rate}%, and a loan term of {loan_term_years} years:\")\n",
        "print(f\"The monthly payment is: {result_monthly_payment}\")\n",
        "\n"
      ],
      "metadata": {
        "id": "H3_FpZW7OUAA",
        "colab": {
          "base_uri": "https://localhost:8080/"
        },
        "outputId": "efcab4b1-0fa8-4cf5-d9aa-8e9c9d854ed9"
      },
      "execution_count": 29,
      "outputs": [
        {
          "output_type": "stream",
          "name": "stdout",
          "text": [
            "For a loan amount of 100000, an annual interest rate of 5%, and a loan term of 30 years:\n",
            "The monthly payment is: 536.82\n"
          ]
        }
      ]
    },
    {
      "cell_type": "markdown",
      "source": [
        "# II. Errors and exceptions handling."
      ],
      "metadata": {
        "id": "uPyZWU1r2q-s"
      }
    },
    {
      "cell_type": "markdown",
      "source": [
        "10. Реалізуйте функцію, яка отримує значення зі словника за ключем та повертає його, а за умови відсутності ключа відловлює KeyError."
      ],
      "metadata": {
        "id": "GJAVQ9SJbARP"
      }
    },
    {
      "cell_type": "code",
      "source": [
        "def get_value_dict(dictionary, key):\n",
        "    try:\n",
        "        value = dictionary[key]\n",
        "        return value\n",
        "    except KeyError:\n",
        "        raise KeyError(f\"The key '{key}' is not in dictionary\")\n",
        "\n",
        "dict = {'name': 'Alice', 'age': 25, 'city': 'Kyiv'}\n",
        "\n",
        "try:\n",
        "    non_existing_key = 'gender'\n",
        "    result_non_existing_key = get_value_dict(dict, non_existing_key)\n",
        "    print(f\"The value for the key '{non_existing_key}' is: {result_non_existing_key}\")\n",
        "except KeyError as e:\n",
        "    print(f\"Error: {e}\")\n",
        "\n"
      ],
      "metadata": {
        "id": "01YDTgxI4IK7",
        "colab": {
          "base_uri": "https://localhost:8080/"
        },
        "outputId": "50395e3b-e041-4013-c27a-40f449c01ad4"
      },
      "execution_count": 33,
      "outputs": [
        {
          "output_type": "stream",
          "name": "stdout",
          "text": [
            "Error: \"The key 'gender' is not in dictionary\"\n"
          ]
        }
      ]
    },
    {
      "cell_type": "markdown",
      "source": [
        "11. Реалізуйте функцію із завдання 10 без відловлювання помилки, однак за допомогою конструкції if-else."
      ],
      "metadata": {
        "id": "IwpB9_4Jbttd"
      }
    },
    {
      "cell_type": "code",
      "source": [
        "def get_value_dict_1(dictionary, key):\n",
        "    if key in dictionary:\n",
        "        return dictionary[key]\n",
        "    else:\n",
        "        return None\n",
        "\n",
        "\n",
        "dict = {'name': 'Alice', 'age': 25, 'city': 'New York'}\n",
        "\n",
        "non_existing_key = 'gender'\n",
        "result_non_existing_key = get_value_dict_1(dict, non_existing_key)\n",
        "print(f\"The value for the key '{non_existing_key}' is: {result_non_existing_key}\")\n",
        "\n"
      ],
      "metadata": {
        "id": "qSEr1bCQbtC1",
        "colab": {
          "base_uri": "https://localhost:8080/"
        },
        "outputId": "9012dc95-9335-4db1-9096-74a709bdfb2b"
      },
      "execution_count": 38,
      "outputs": [
        {
          "output_type": "stream",
          "name": "stdout",
          "text": [
            "The value for the key 'gender' is: None\n"
          ]
        }
      ]
    },
    {
      "cell_type": "markdown",
      "source": [
        "12. Реалізуйте функцію з завдання 10, використовуючи метод словника, який дозволяє зробити операцію навіть без if-else."
      ],
      "metadata": {
        "id": "H4iygP7xb7xB"
      }
    },
    {
      "cell_type": "code",
      "source": [
        "def get_value_dict_better(dictionary, key):\n",
        "    return dictionary.get(key, None)\n",
        "    dict = {'name': 'Alice', 'age': 25, 'city': 'New York'}\n",
        "\n",
        "non_existing_key = 'gender'\n",
        "result_non_existing_key = get_value_dict_better(dict, non_existing_key)\n",
        "print(f\"The value for the key '{non_existing_key}' is: {result_non_existing_key}\")\n"
      ],
      "metadata": {
        "id": "IjFPCfCXcFMF",
        "colab": {
          "base_uri": "https://localhost:8080/"
        },
        "outputId": "bdd42087-e1e3-491f-e65e-412bfc5de0d4"
      },
      "execution_count": 40,
      "outputs": [
        {
          "output_type": "stream",
          "name": "stdout",
          "text": [
            "The value for the key 'gender' is: None\n"
          ]
        }
      ]
    },
    {
      "cell_type": "markdown",
      "source": [
        "13. Визначте функцію, яка обробляє значення, введене користувачем з терміналу, приводячи його до цілого числа. Використайте відловлення відповідної помилки. Наприклад, людина має ввести свій вік."
      ],
      "metadata": {
        "id": "V7UB77SvcFiH"
      }
    },
    {
      "cell_type": "code",
      "source": [
        "def get_user_age():\n",
        "    while True:\n",
        "        try:\n",
        "            user_input = input(\"Please enter your age: \")\n",
        "            age = int(user_input)\n",
        "            if age < 0:\n",
        "                raise ValueError(\"Age cant be negative\")\n",
        "            return age\n",
        "        except ValueError as e:\n",
        "            print(f\"Invalid input: {e}. Please enter a valid non-negative int\")\n",
        "try:\n",
        "    user_age = get_user_age()\n",
        "    print(f\"Your age is: {user_age}\")\n",
        "except ValueError as e:\n",
        "    print(f\"Error: {e}\")\n",
        "\n",
        "\n",
        "\n"
      ],
      "metadata": {
        "id": "OEkZInsUce-g",
        "colab": {
          "base_uri": "https://localhost:8080/"
        },
        "outputId": "952f2537-2a29-41d6-9394-b67d60416fa6"
      },
      "execution_count": 46,
      "outputs": [
        {
          "output_type": "stream",
          "name": "stdout",
          "text": [
            "Please enter your age: 7\n",
            "Your age is: 7\n"
          ]
        }
      ]
    },
    {
      "cell_type": "markdown",
      "source": [
        "14. Визначте функцію з завдання 13, де використайте конструкцію if-else замість відловдення помилки."
      ],
      "metadata": {
        "id": "nvQo1fzjcfYI"
      }
    },
    {
      "cell_type": "code",
      "source": [
        "def get_user_age():\n",
        "    while True:\n",
        "        user_input = input(\"Please enter your age: \")\n",
        "\n",
        "        if user_input.isdigit():\n",
        "            age = int(user_input)\n",
        "            if age >= 0:\n",
        "                return age\n",
        "            else:\n",
        "                print(\"Age cannot be negative Please enter a positive int\")\n",
        "        else:\n",
        "            print(\"Please enter a valid positive integer\")\n",
        "\n",
        "user_age = get_user_age()\n",
        "print(f\"Your age is: {user_age}\")\n",
        "\n"
      ],
      "metadata": {
        "id": "bQF8LazacpUI",
        "colab": {
          "base_uri": "https://localhost:8080/"
        },
        "outputId": "b7c7326a-62d1-420e-9374-8b7b82dacb82"
      },
      "execution_count": 48,
      "outputs": [
        {
          "output_type": "stream",
          "name": "stdout",
          "text": [
            "Please enter your age: -8\n",
            "Please enter a valid positive integer\n",
            "Please enter your age: 6\n",
            "Your age is: 6\n"
          ]
        }
      ]
    },
    {
      "cell_type": "markdown",
      "source": [
        "15. Визначте функцію з завдання 13, враховуючи додаткове обмеження, що число має бути у діапазоні від 18 до 120 (повнолітня людина). Відловіть відповідні типи помилок."
      ],
      "metadata": {
        "id": "l4RoecD_dIj5"
      }
    },
    {
      "cell_type": "code",
      "source": [
        "def get_user_age():\n",
        "    while True:\n",
        "        user_input = input(\"Please enter your age: \")\n",
        "\n",
        "        if user_input.isdigit():\n",
        "            age = int(user_input)\n",
        "            if 18 <= age <= 120:\n",
        "                return age\n",
        "            else:\n",
        "                raise ValueError(\"Invalid input: Age must be between 18 and 120.\")\n",
        "        if age < 0:\n",
        "            raise ValueError(\"Invalid input: Please enter a valid non-negative integer.\")\n",
        "try:\n",
        "    user_age = get_user_age()\n",
        "    print(f\"Your age is: {user_age}\")\n",
        "except ValueError as e:\n",
        "    print(f\"Error: {e}\")\n",
        "\n",
        "\n"
      ],
      "metadata": {
        "id": "SeHKtFGTdiyD",
        "colab": {
          "base_uri": "https://localhost:8080/"
        },
        "outputId": "9f18bdaf-eb0e-48bc-826a-7ff1301e634b"
      },
      "execution_count": 51,
      "outputs": [
        {
          "output_type": "stream",
          "name": "stdout",
          "text": [
            "Please enter your age: 8\n",
            "Error: Invalid input: Age must be between 18 and 120.\n"
          ]
        }
      ]
    },
    {
      "cell_type": "markdown",
      "source": [
        "16. Напишіть код, який би генерував максимальну кількість помилок різного типу."
      ],
      "metadata": {
        "id": "MAn64KyreVC4"
      }
    },
    {
      "cell_type": "code",
      "source": [
        "def generate_errors():\n",
        "    result = 1 / 0\n",
        "\n",
        "    undefined_variable = undefined_variable + 1\n",
        "\n",
        "    non_existent_method()\n",
        "\n",
        "generate_errors()\n",
        "\n",
        ""
      ],
      "metadata": {
        "id": "DzuV3uQpeb-U",
        "colab": {
          "base_uri": "https://localhost:8080/",
          "height": 332
        },
        "outputId": "719ac61b-60b1-49ea-da21-cb56072cc8ec"
      },
      "execution_count": 53,
      "outputs": [
        {
          "output_type": "error",
          "ename": "ZeroDivisionError",
          "evalue": "division by zero",
          "traceback": [
            "\u001b[0;31m---------------------------------------------------------------------------\u001b[0m",
            "\u001b[0;31mZeroDivisionError\u001b[0m                         Traceback (most recent call last)",
            "\u001b[0;32m<ipython-input-53-2eb7f0eceb86>\u001b[0m in \u001b[0;36m<cell line: 8>\u001b[0;34m()\u001b[0m\n\u001b[1;32m      6\u001b[0m     \u001b[0mnon_existent_method\u001b[0m\u001b[0;34m(\u001b[0m\u001b[0;34m)\u001b[0m\u001b[0;34m\u001b[0m\u001b[0;34m\u001b[0m\u001b[0m\n\u001b[1;32m      7\u001b[0m \u001b[0;34m\u001b[0m\u001b[0m\n\u001b[0;32m----> 8\u001b[0;31m \u001b[0mgenerate_errors\u001b[0m\u001b[0;34m(\u001b[0m\u001b[0;34m)\u001b[0m\u001b[0;34m\u001b[0m\u001b[0;34m\u001b[0m\u001b[0m\n\u001b[0m\u001b[1;32m      9\u001b[0m \u001b[0;34m\u001b[0m\u001b[0m\n\u001b[1;32m     10\u001b[0m \u001b[0;34m\u001b[0m\u001b[0m\n",
            "\u001b[0;32m<ipython-input-53-2eb7f0eceb86>\u001b[0m in \u001b[0;36mgenerate_errors\u001b[0;34m()\u001b[0m\n\u001b[1;32m      1\u001b[0m \u001b[0;32mdef\u001b[0m \u001b[0mgenerate_errors\u001b[0m\u001b[0;34m(\u001b[0m\u001b[0;34m)\u001b[0m\u001b[0;34m:\u001b[0m\u001b[0;34m\u001b[0m\u001b[0;34m\u001b[0m\u001b[0m\n\u001b[0;32m----> 2\u001b[0;31m     \u001b[0mresult\u001b[0m \u001b[0;34m=\u001b[0m \u001b[0;36m1\u001b[0m \u001b[0;34m/\u001b[0m \u001b[0;36m0\u001b[0m\u001b[0;34m\u001b[0m\u001b[0;34m\u001b[0m\u001b[0m\n\u001b[0m\u001b[1;32m      3\u001b[0m \u001b[0;34m\u001b[0m\u001b[0m\n\u001b[1;32m      4\u001b[0m     \u001b[0mundefined_variable\u001b[0m \u001b[0;34m=\u001b[0m \u001b[0mundefined_variable\u001b[0m \u001b[0;34m+\u001b[0m \u001b[0;36m1\u001b[0m\u001b[0;34m\u001b[0m\u001b[0;34m\u001b[0m\u001b[0m\n\u001b[1;32m      5\u001b[0m \u001b[0;34m\u001b[0m\u001b[0m\n",
            "\u001b[0;31mZeroDivisionError\u001b[0m: division by zero"
          ]
        }
      ]
    },
    {
      "cell_type": "markdown",
      "source": [
        "17. Наскільки це можливо, виправте код із завдання 16."
      ],
      "metadata": {
        "id": "5VFbEKQkecMz"
      }
    },
    {
      "cell_type": "code",
      "source": [
        "def generate_errors():\n",
        "    try:\n",
        "        result = 1 / 0\n",
        "    except ZeroDivisionError as e:\n",
        "        print(f\"Error: {e}\")\n",
        "\n",
        "    try:\n",
        "        undefined_variable = undefined_variable + 1\n",
        "    except NameError as e:\n",
        "        print(f\"Error: {e}\")\n",
        "\n",
        "    try:\n",
        "        non_existent_method()\n",
        "    except NameError as e:\n",
        "        print(f\"Error: {e}\")\n",
        "\n",
        "generate_errors()\n"
      ],
      "metadata": {
        "id": "peMOBz9ieiur",
        "colab": {
          "base_uri": "https://localhost:8080/"
        },
        "outputId": "52a6510e-ee22-460d-9eb1-b7f13ea04363"
      },
      "execution_count": 54,
      "outputs": [
        {
          "output_type": "stream",
          "name": "stdout",
          "text": [
            "Error: division by zero\n",
            "Error: local variable 'undefined_variable' referenced before assignment\n",
            "Error: name 'non_existent_method' is not defined\n"
          ]
        }
      ]
    }
  ]
}