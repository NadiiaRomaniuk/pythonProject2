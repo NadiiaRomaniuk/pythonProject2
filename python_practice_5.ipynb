{
  "nbformat": 4,
  "nbformat_minor": 0,
  "metadata": {
    "colab": {
      "provenance": []
    },
    "kernelspec": {
      "name": "python3",
      "display_name": "Python 3"
    },
    "language_info": {
      "name": "python"
    }
  },
  "cells": [
    {
      "cell_type": "markdown",
      "source": [
        "# I. OOP"
      ],
      "metadata": {
        "id": "5qV_sehzFCTp"
      }
    },
    {
      "cell_type": "markdown",
      "source": [
        "1. (6б). Створіть клас Animal, додайте три атрибути, один з яких має значення за замовчуванням та два методи на свій розсуд."
      ],
      "metadata": {
        "id": "tx_U_hOALyfg"
      }
    },
    {
      "cell_type": "code",
      "source": [
        "class Animal:\n",
        "    def __init__(self, name, species, sound=\"nothing\"):\n",
        "        self.name = name\n",
        "        self.species = species\n",
        "        self.sound = sound\n",
        "\n",
        "    def make_sound(self):\n",
        "        if self.sound:\n",
        "            print(f\"{self.name} says {self.sound}\")\n",
        "        else:\n",
        "            print(f\"{self.name} makes a generic animal sound\")\n",
        "\n",
        "    def move(self, speed):\n",
        "        print(f\"{self.name} is moving at a speed of {speed} units.\")\n",
        "\n"
      ],
      "metadata": {
        "id": "-Vf895KaL88N"
      },
      "execution_count": 9,
      "outputs": []
    },
    {
      "cell_type": "markdown",
      "source": [
        "2. (2б). Створіть два обʼєкти цього класу, де один з обʼєктів створюється із дефолтним значенням атрибуту. На одному обʼєкті отримайте значення його атрибуту, а на іншому викличте один з його методів."
      ],
      "metadata": {
        "id": "X_UlOMB0L93w"
      }
    },
    {
      "cell_type": "code",
      "source": [
        "my_animal_1 = Animal(name=\"Leo\", species=\"Lion\", sound=\"Roar\")\n",
        "my_animal_1.make_sound()\n",
        "\n",
        "my_animal_2 = Animal(name=\"Bunny\", species=\"Rabbit\")\n",
        "print(f\"What my_animal_1 says: {my_animal_2.sound}\")\n",
        "\n",
        "\n"
      ],
      "metadata": {
        "id": "7gBu0ESOMCpG",
        "colab": {
          "base_uri": "https://localhost:8080/"
        },
        "outputId": "78b7e900-4772-4d5b-db70-b749177d321e"
      },
      "execution_count": 10,
      "outputs": [
        {
          "output_type": "stream",
          "name": "stdout",
          "text": [
            "Leo says Roar\n",
            "What my_animal_1 says: nothing\n"
          ]
        }
      ]
    },
    {
      "cell_type": "markdown",
      "source": [
        "3. (5б). Створіть клас, де атрибути мають різні рівні доступу. Спробуйте отримати їхні значення та опишіть результати."
      ],
      "metadata": {
        "id": "HoqSCZt1MHn5"
      }
    },
    {
      "cell_type": "code",
      "source": [
        "class Example:\n",
        "    def __init__(self):\n",
        "        self.public_attribute = \"Public Value\"\n",
        "        self._protected_attribute = \"Protected Value\"\n",
        "        self.__private_attribute = \"Private Value\"\n",
        "\n",
        "\n",
        "example_instance = Example()\n",
        "\n",
        "print(f\"Public Attribute: {example_instance.public_attribute}\")\n",
        "print(f\"Protected Attribute: {example_instance._protected_attribute}\")\n",
        "print(f\"Private Attribute: {example_instance._Example__private_attribute}\")\n",
        "#print(f\"Private Attribute: {example_instance.__private_attribute}\") буде помилка, бо це приватний атрибут\n",
        "\n"
      ],
      "metadata": {
        "id": "r9b3vJxBMSPV",
        "colab": {
          "base_uri": "https://localhost:8080/"
        },
        "outputId": "d7fad193-bcc0-4360-82c8-e4f4fb4cd8b7"
      },
      "execution_count": 36,
      "outputs": [
        {
          "output_type": "stream",
          "name": "stdout",
          "text": [
            "Public Attribute: Public Value\n",
            "Protected Attribute: Protected Value\n",
            "Private Attribute: Private Value\n"
          ]
        }
      ]
    },
    {
      "cell_type": "markdown",
      "source": [
        "4. (7б). Як ви розумієте термін self? Для чого використовується метод __init __?"
      ],
      "metadata": {
        "id": "5op2m2vgMSkZ"
      }
    },
    {
      "cell_type": "markdown",
      "source": [
        "Метод __init__ є конструктором класу. Він викликається автоматично при створенні нового об'єкта класу і використовується для ініціалізації атрибутів\n",
        "Параметр self вказує на об'єкт класу, до якого відноситься метод --> методи можуть працювати з атрибутами та методами того ж об'єкта. При виклику методу, об'єкт передається як перший аргумент, який називається \"self\", це допомагає визначити контекст для виклику методу"
      ],
      "metadata": {
        "id": "fAC8F4XeO5wa"
      }
    },
    {
      "cell_type": "markdown",
      "source": [
        "5. (9б). Створіть клас Фігура без атрибутів, з методом get_area для отримання площі фігури, що повертає 0 та __add __, який приймає self та other в якості аргументів, а повертає суму площин фігур self та other."
      ],
      "metadata": {
        "id": "-6X8EGfjMd2y"
      }
    },
    {
      "cell_type": "code",
      "source": [
        "class Figure:\n",
        "    def get_area(self):\n",
        "        return 0\n",
        "\n",
        "    def __add__(self, other):\n",
        "        if isinstance(other, Figure):\n",
        "            return self.get_area() + other.get_area()\n",
        "\n",
        "figure1 = Figure()\n",
        "figure2 = Figure()\n",
        "\n",
        "area_sum = figure1 + figure2\n",
        "print(f\"Sum of areas: {area_sum}\")\n"
      ],
      "metadata": {
        "id": "4rvO_wYUMaEr",
        "colab": {
          "base_uri": "https://localhost:8080/"
        },
        "outputId": "b2238db8-10be-43fd-dd1c-362333c2c13a"
      },
      "execution_count": 21,
      "outputs": [
        {
          "output_type": "stream",
          "name": "stdout",
          "text": [
            "Sum of areas: 0\n"
          ]
        }
      ]
    },
    {
      "cell_type": "markdown",
      "source": [
        "6. (11б). Створіть 2 дочірніх класи від Фігури: Трикутник та Коло, які мають атрибути, необхідні для розрахунку площин. Визначте метод get_area в кожному з них так, щоби вони розраховували площу в залежності від формули для кожного типу фігури. Створіть обʼєкт класу Трикутник та обʼєкт класу Коло. Виконайте операцію суми за допомогою оператора + між ними."
      ],
      "metadata": {
        "id": "SFcKnnv5Mo_z"
      }
    },
    {
      "cell_type": "code",
      "source": [
        "import math\n",
        "\n",
        "class Figure:\n",
        "    def get_area(self):\n",
        "        return 0\n",
        "\n",
        "    def __add__(self, other):\n",
        "        if isinstance(other, Figure):\n",
        "            return self.get_area() + other.get_area()\n",
        "\n",
        "class Triangle(Figure):\n",
        "    def __init__(self, base, height):\n",
        "        self.base = base\n",
        "        self.height = height\n",
        "\n",
        "    def get_area(self):\n",
        "        return 0.5 * self.base * self.height\n",
        "\n",
        "class Circle(Figure):\n",
        "    def __init__(self, radius):\n",
        "        self.radius = radius\n",
        "\n",
        "    def get_area(self):\n",
        "        return math.pi * self.radius ** 2\n",
        "\n",
        "triangle = Triangle(base=4, height=3)\n",
        "circle = Circle(radius=5)\n",
        "\n",
        "print(f\"Area of Triangle: {triangle.get_area()}\")\n",
        "print(f\"Area of Circle: {circle.get_area()}\")\n",
        "\n",
        "area_sum = triangle + circle\n",
        "print(f\"Sum of areas: {area_sum}\")\n"
      ],
      "metadata": {
        "id": "H3GVNr69Muf3",
        "colab": {
          "base_uri": "https://localhost:8080/"
        },
        "outputId": "6b17d571-0994-482d-b1a5-10fa8bb287f3"
      },
      "execution_count": 23,
      "outputs": [
        {
          "output_type": "stream",
          "name": "stdout",
          "text": [
            "Area of Triangle: 6.0\n",
            "Area of Circle: 78.53981633974483\n",
            "Sum of areas: 84.53981633974483\n"
          ]
        }
      ]
    },
    {
      "cell_type": "markdown",
      "source": [
        "7. (3б). Продемонструйте різницю між isinstance та issubclass."
      ],
      "metadata": {
        "id": "HCvR206YMvLK"
      }
    },
    {
      "cell_type": "code",
      "source": [
        "class Animal:\n",
        "    pass\n",
        "\n",
        "class Dog(Animal):\n",
        "    pass\n",
        "\n",
        "dog_instance = Dog()\n",
        "\n",
        "print(isinstance(dog_instance, Dog))\n",
        "print(isinstance(dog_instance, Animal))\n",
        "print(isinstance(dog_instance, int))\n",
        "print(issubclass(Dog, Animal))\n",
        "print(issubclass(Animal, Dog))\n",
        "print(issubclass(int, Animal))\n"
      ],
      "metadata": {
        "id": "L_V1bBvDM0GN",
        "colab": {
          "base_uri": "https://localhost:8080/"
        },
        "outputId": "a04b5c1f-4d7f-4c55-c274-0785243dd90e"
      },
      "execution_count": 24,
      "outputs": [
        {
          "output_type": "stream",
          "name": "stdout",
          "text": [
            "True\n",
            "True\n",
            "False\n",
            "True\n",
            "False\n",
            "False\n"
          ]
        }
      ]
    },
    {
      "cell_type": "markdown",
      "source": [
        "8. (13б). Створіть клас BankAccount з приватними атрибутами balance та account_number. Реалізуйте методи поповнення та зняття коштів, забезпечивши належну інкапсуляцію. Підказка: використовуйте декоратори property та setter."
      ],
      "metadata": {
        "id": "jjsaBZ-iM0Qq"
      }
    },
    {
      "cell_type": "code",
      "source": [
        "class BankAccount:\n",
        "    def __init__(self, account_number, initial_balance=0.0):\n",
        "        self._account_number = account_number\n",
        "        self._balance = initial_balance\n",
        "\n",
        "    @property\n",
        "    def account_number(self):\n",
        "        return self._account_number\n",
        "\n",
        "    @property\n",
        "    def balance(self):\n",
        "        return self._balance\n",
        "\n",
        "    @balance.setter\n",
        "    def balance(self, new_balance):\n",
        "        if new_balance >= 0:\n",
        "            self._balance = new_balance\n",
        "        else:\n",
        "            print(\"Error: Balance cannot be negative.\")\n",
        "\n",
        "    def deposit(self, amount):\n",
        "        if amount > 0:\n",
        "            self._balance += amount\n",
        "            print(f\"Deposited ${amount}. New balance: ${self._balance}\")\n",
        "        else:\n",
        "            print(\"Error: Deposit amount must be > than 0\")\n",
        "\n",
        "    def withdraw(self, amount):\n",
        "        if amount > 0 and amount <= self._balance:\n",
        "            self._balance -= amount\n",
        "            print(f\"Withdrew ${amount}. New balance: ${self._balance}\")\n",
        "        else:\n",
        "            print(\"Error: Withdrawal amount must be > than 0 and < or = to the balance.\")\n",
        "\n",
        "account = BankAccount(account_number=\"123456789\", initial_balance=1000.0)\n",
        "\n",
        "print(f\"Account Number: {account.account_number}\")\n",
        "print(f\"Initial Balance: ${account.balance}\")\n",
        "\n",
        "account.deposit(500.0)\n",
        "account.withdraw(200.0)\n",
        "account.balance = -500.0\n",
        "\n",
        "account.withdraw(1500.0)\n"
      ],
      "metadata": {
        "id": "xCvZ7lh8M7YA",
        "colab": {
          "base_uri": "https://localhost:8080/"
        },
        "outputId": "b03f0307-8e22-4ad2-b62c-9b0289221b7a"
      },
      "execution_count": 26,
      "outputs": [
        {
          "output_type": "stream",
          "name": "stdout",
          "text": [
            "Account Number: 123456789\n",
            "Initial Balance: $1000.0\n",
            "Deposited $500.0. New balance: $1500.0\n",
            "Withdrew $200.0. New balance: $1300.0\n",
            "Error: Balance cannot be negative.\n",
            "Error: Withdrawal amount must be > than 0 and < or = to the balance.\n"
          ]
        }
      ]
    },
    {
      "cell_type": "markdown",
      "source": [
        "9. (11б). Створіть клас Library, який містить список об'єктів типу Book. Реалізуйте методи для додавання книги, видалення книги та відображення списку книг."
      ],
      "metadata": {
        "id": "tIzL2SJTM8ft"
      }
    },
    {
      "cell_type": "code",
      "source": [
        "class Book:\n",
        "    def __init__(self, title, author):\n",
        "\n",
        "        self.title = title\n",
        "        self.author = author\n",
        "\n",
        "class Library:\n",
        "    def __init__(self):\n",
        "        self.books = []\n",
        "\n",
        "    def add_book(self, book):\n",
        "        self.books.append(book)\n",
        "        print(f\"Book '{book.title}' by {book.author} added to the library\")\n",
        "\n",
        "    def remove_book(self, book):\n",
        "        if book in self.books:\n",
        "            self.books.remove(book)\n",
        "            print(f\"Book '{book.title}' by {book.author} removed from the library\")\n",
        "        else:\n",
        "            print(\"Error: Book not found\")\n",
        "\n",
        "    def display_books(self):\n",
        "        if not self.books:\n",
        "            print(\"Library is empty\")\n",
        "        else:\n",
        "            print(\"List of Books in the Library:\")\n",
        "            for book in self.books:\n",
        "                print(f\"Title: {book.title}, Author: {book.author}\")\n",
        "\n",
        "\n",
        "library = Library()\n",
        "\n",
        "book1 = Book(title=\"Book1\", author=\"Author1\")\n",
        "book2 = Book(title=\"Book2\", author=\"Author2\")\n",
        "book3 = Book(title=\"Book3\", author=\"Author3\")\n",
        "\n",
        "library.add_book(book1)\n",
        "library.add_book(book2)\n",
        "library.display_books()\n",
        "\n",
        "library.remove_book(book2)\n",
        "library.display_books()\n",
        "\n",
        "library.remove_book(book3)\n"
      ],
      "metadata": {
        "id": "HWxfJKLtNAUZ",
        "colab": {
          "base_uri": "https://localhost:8080/"
        },
        "outputId": "96b01a48-44fe-484e-c0b2-b9a9ba0d45c6"
      },
      "execution_count": 28,
      "outputs": [
        {
          "output_type": "stream",
          "name": "stdout",
          "text": [
            "Book 'Book1' by Author1 added to the library\n",
            "Book 'Book2' by Author2 added to the library\n",
            "List of Books in the Library:\n",
            "Title: Book1, Author: Author1\n",
            "Title: Book2, Author: Author2\n",
            "Book 'Book2' by Author2 removed from the library\n",
            "List of Books in the Library:\n",
            "Title: Book1, Author: Author1\n",
            "Error: Book not found\n"
          ]
        }
      ]
    },
    {
      "cell_type": "markdown",
      "source": [
        "10. (13б). Створіть клас Person з атрибутами name та age. Створіть ще один клас Employee з такими атрибутами, як department та salary. Створіть клас Manager, який успадковує обидва класи Person та Employee. Продемонструйте використання множинної спадковості, створивши обʼєкт класу Manager та отримавши mro для цього класу."
      ],
      "metadata": {
        "id": "lmV8pAwwNIqu"
      }
    },
    {
      "cell_type": "code",
      "source": [
        "class Person:\n",
        "    def __init__(self, name, age):\n",
        "        self.name = name\n",
        "        self.age = age\n",
        "\n",
        "class Employee:\n",
        "    def __init__(self, department, salary):\n",
        "        self.department = department\n",
        "        self.salary = salary\n",
        "\n",
        "class Manager(Person, Employee):\n",
        "    def __init__(self, name, age, department, salary):\n",
        "        Person.__init__(self, name, age)\n",
        "        Employee.__init__(self, department, salary)\n",
        "\n",
        "\n",
        "manager = Manager(name=\"John Smith\", age=35, department=\"IT\", salary=75000)\n",
        "\n",
        "print(f\"Name: {manager.name}\")\n",
        "print(f\"Age: {manager.age}\")\n",
        "print(f\"Department: {manager.department}\")\n",
        "print(f\"Salary: ${manager.salary}\")\n",
        "\n",
        "print(f\"\\nMRO: {Manager.mro()}\")\n"
      ],
      "metadata": {
        "id": "R49grKlWNPeN",
        "colab": {
          "base_uri": "https://localhost:8080/"
        },
        "outputId": "41f18643-908f-4ae8-c08b-58d21ecf8da5"
      },
      "execution_count": 29,
      "outputs": [
        {
          "output_type": "stream",
          "name": "stdout",
          "text": [
            "Name: John Smith\n",
            "Age: 35\n",
            "Department: IT\n",
            "Salary: $75000\n",
            "\n",
            "MRO: [<class '__main__.Manager'>, <class '__main__.Person'>, <class '__main__.Employee'>, <class 'object'>]\n"
          ]
        }
      ]
    },
    {
      "cell_type": "markdown",
      "source": [
        "# II. Iterator"
      ],
      "metadata": {
        "id": "dIJyUiNBFG8G"
      }
    },
    {
      "cell_type": "markdown",
      "source": [
        "11. (4б). Визначте рядок(str) з 4ма різними за значенням символами. Створіть ітератор на основі цього рядка. Викличте 5 разів функцію next на ітераторі, 4ри перших з них огорніть у ф-цію print()."
      ],
      "metadata": {
        "id": "13vsm0NyKIzL"
      }
    },
    {
      "cell_type": "code",
      "source": [
        "my_str = \"abcd\"\n",
        "\n",
        "my_iterator = iter(my_str)\n",
        "\n",
        "for _ in range(5): #якщо викликати 4 рази, помилки не буде\n",
        "    next_value = next(my_iterator)\n",
        "    if _ < 4:\n",
        "        print(next_value)\n",
        "\n"
      ],
      "metadata": {
        "id": "81ntabAkKuz-",
        "colab": {
          "base_uri": "https://localhost:8080/",
          "height": 280
        },
        "outputId": "695401c9-6919-4fbc-b412-c7f8c2c5fecf"
      },
      "execution_count": 34,
      "outputs": [
        {
          "output_type": "stream",
          "name": "stdout",
          "text": [
            "a\n",
            "b\n",
            "c\n",
            "d\n"
          ]
        },
        {
          "output_type": "error",
          "ename": "StopIteration",
          "evalue": "",
          "traceback": [
            "\u001b[0;31m---------------------------------------------------------------------------\u001b[0m",
            "\u001b[0;31mStopIteration\u001b[0m                             Traceback (most recent call last)",
            "\u001b[0;32m<ipython-input-34-3cc895241dc0>\u001b[0m in \u001b[0;36m<cell line: 5>\u001b[0;34m()\u001b[0m\n\u001b[1;32m      4\u001b[0m \u001b[0;34m\u001b[0m\u001b[0m\n\u001b[1;32m      5\u001b[0m \u001b[0;32mfor\u001b[0m \u001b[0m_\u001b[0m \u001b[0;32min\u001b[0m \u001b[0mrange\u001b[0m\u001b[0;34m(\u001b[0m\u001b[0;36m5\u001b[0m\u001b[0;34m)\u001b[0m\u001b[0;34m:\u001b[0m \u001b[0;31m#якщо викликати 4 рази, помилки не буде\u001b[0m\u001b[0;34m\u001b[0m\u001b[0;34m\u001b[0m\u001b[0m\n\u001b[0;32m----> 6\u001b[0;31m     \u001b[0mnext_value\u001b[0m \u001b[0;34m=\u001b[0m \u001b[0mnext\u001b[0m\u001b[0;34m(\u001b[0m\u001b[0mmy_iterator\u001b[0m\u001b[0;34m)\u001b[0m\u001b[0;34m\u001b[0m\u001b[0;34m\u001b[0m\u001b[0m\n\u001b[0m\u001b[1;32m      7\u001b[0m     \u001b[0;32mif\u001b[0m \u001b[0m_\u001b[0m \u001b[0;34m<\u001b[0m \u001b[0;36m4\u001b[0m\u001b[0;34m:\u001b[0m\u001b[0;34m\u001b[0m\u001b[0;34m\u001b[0m\u001b[0m\n\u001b[1;32m      8\u001b[0m         \u001b[0mprint\u001b[0m\u001b[0;34m(\u001b[0m\u001b[0mnext_value\u001b[0m\u001b[0;34m)\u001b[0m\u001b[0;34m\u001b[0m\u001b[0;34m\u001b[0m\u001b[0m\n",
            "\u001b[0;31mStopIteration\u001b[0m: "
          ]
        }
      ]
    },
    {
      "cell_type": "markdown",
      "source": [
        "А що якщо викликати цю ж функцію на рядку?"
      ],
      "metadata": {
        "id": "aekWHGXOLRsO"
      }
    },
    {
      "cell_type": "code",
      "source": [
        "my_str = \"abcd\"\n",
        "try:\n",
        "    next_value = next(my_str)\n",
        "    print(next_value)\n",
        "except TypeError as e:\n",
        "    print(f\"TypeError: {e}\")\n"
      ],
      "metadata": {
        "id": "mxATGsErLV1i",
        "colab": {
          "base_uri": "https://localhost:8080/"
        },
        "outputId": "263cf8f6-71fb-4959-daf7-d087b1dcebab"
      },
      "execution_count": 32,
      "outputs": [
        {
          "output_type": "stream",
          "name": "stdout",
          "text": [
            "TypeError: 'str' object is not an iterator\n"
          ]
        }
      ]
    },
    {
      "cell_type": "markdown",
      "source": [
        " 12. (5б). Опишіть своїми словами в одному реченні, як ви розумієте різницю між ітерабельними обʼєктами та ітераторами (можна на прикладі)."
      ],
      "metadata": {
        "id": "XwtMEopwJ4pH"
      }
    },
    {
      "cell_type": "markdown",
      "source": [
        "*Ітерабельні об'єкти - це структури даних, які можна ітерувати.\n",
        " Ітератори - це об'єкти, які втілюють ітерацію по ітерабельному об'єкту,дозволяючи отримувати наступні значення через функцію next()."
      ],
      "metadata": {
        "id": "-sHrODc3KFn8"
      }
    },
    {
      "cell_type": "markdown",
      "source": [
        "13. (11б). Створіть клас, що має визначений Iterator Protocol та при кожному виклику next повертає літери англійської абетки, поки вони не вичерпаються."
      ],
      "metadata": {
        "id": "E9qJWmNbK8Gl"
      }
    },
    {
      "cell_type": "code",
      "source": [
        "class AlphabetIterator:\n",
        "    def __init__(self):\n",
        "        self.current_char = ord('a')\n",
        "\n",
        "    def __iter__(self):\n",
        "        return self\n",
        "\n",
        "    def __next__(self):\n",
        "        if self.current_char <= ord('z'):\n",
        "            char = chr(self.current_char)\n",
        "            self.current_char += 1\n",
        "            return char\n",
        "        else:\n",
        "            raise StopIteration\n",
        "\n",
        "alphabet_iter = AlphabetIterator()\n",
        "\n",
        "for _ in range(26):\n",
        "    print(next(alphabet_iter))\n"
      ],
      "metadata": {
        "id": "cqx-g_RsLo6I",
        "colab": {
          "base_uri": "https://localhost:8080/"
        },
        "outputId": "203e63c1-99b5-48d3-aec0-586c91349a26"
      },
      "execution_count": 35,
      "outputs": [
        {
          "output_type": "stream",
          "name": "stdout",
          "text": [
            "a\n",
            "b\n",
            "c\n",
            "d\n",
            "e\n",
            "f\n",
            "g\n",
            "h\n",
            "i\n",
            "j\n",
            "k\n",
            "l\n",
            "m\n",
            "n\n",
            "o\n",
            "p\n",
            "q\n",
            "r\n",
            "s\n",
            "t\n",
            "u\n",
            "v\n",
            "w\n",
            "x\n",
            "y\n",
            "z\n"
          ]
        }
      ]
    },
    {
      "cell_type": "markdown",
      "source": [
        "# Вітаю! Ви велика(ий) молодець, що впоралась(вся). Похваліть себе та побалуйте чимось приємним. Я Вами пишаюся."
      ],
      "metadata": {
        "id": "Z3E3S_s1Fv7-"
      }
    }
  ]
}